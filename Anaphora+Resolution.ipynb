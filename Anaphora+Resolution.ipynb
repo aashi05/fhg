{
 "cells": [
  {
   "cell_type": "code",
   "execution_count": 36,
   "metadata": {
    "collapsed": false,
    "deletable": true,
    "editable": true
   },
   "outputs": [
    {
     "name": "stdout",
     "output_type": "stream",
     "text": [
      "Jack\n",
      "2\n",
      "Jack\n",
      "5\n",
      "Jack completed my homework before his own\n"
     ]
    }
   ],
   "source": [
    "import spacy\n",
    "import requests\n",
    "import json\n",
    "en_nlp = spacy.load('en_core_web_md')\n",
    "import json\n",
    "sentence = 'Jack completed my homework before his own' \n",
    "\n",
    "def get_gender(payload, prop_noun_entities): \n",
    "    gender_req = requests.get(\"https://api.genderize.io/\", params=payload) \n",
    "    json_gen = gender_req.json()\n",
    "     \n",
    "    for ji in range(0, len(json_gen)): \n",
    "        name = json_gen[ji][u'name']\n",
    "        gender = json_gen[ji][u'gender'] \n",
    "        prop_noun_entities[name] = gender\n",
    "     \n",
    "    return prop_noun_entities \n",
    "\n",
    "def get_named_entities(en_doc): \n",
    "    prop_noun_entities = {} \n",
    "    prop_noun_entities_pos = {} \n",
    "    payload = {} \n",
    "    i = 0 \n",
    "    for ent in en_doc.ents: \n",
    "        prop_noun_entities_pos[ent.text] = ent.start \n",
    "        if i < 10: \n",
    "            payload[\"name[\"+str(i)+\"]\"] = ent.text \n",
    "            \n",
    "        if i == 9: \n",
    "            prop_noun_entities = get_gender(payload, prop_noun_entities) \n",
    "            i = 0 \n",
    "        i += 1 \n",
    "     \n",
    "    \n",
    "    \n",
    "    if i < 10:     \n",
    "        prop_noun_entities = get_gender(payload, prop_noun_entities) \n",
    "    \n",
    "    \n",
    "    return prop_noun_entities, prop_noun_entities_pos \n",
    "  \n",
    "def propogate_anaphora(en_doc, anaphora_mappings, prop_noun_entities_pos): \n",
    "    first_person_pron = [\"i\", \"me\", \"my\", \"mine\"] \n",
    "\n",
    " \n",
    "    anaphora_pronouns = list(anaphora_mappings.values()) \n",
    "    anaphora_pnouns = list(anaphora_mappings.keys()) \n",
    "    \n",
    "    doc_list = [str(tok) for tok in en_doc] \n",
    "    \n",
    " \n",
    "    for sent in en_doc.sents: \n",
    "        prev_noun = \"\" \n",
    "        for token in sent: \n",
    "            #print(token.text) \n",
    "            if token.tag_ == \"NNP\" or token.tag_ == \"NNPS\": \n",
    "                prev_noun = token.text \n",
    "            if token.tag_ == \"PRP\" or token.tag_ == \"PRP$\": \n",
    "                for pos in range(0, len(anaphora_pronouns)): \n",
    "                    if str(token.text).lower() in anaphora_pronouns[pos]: \n",
    "                        resolve_noun = anaphora_pnouns[pos] \n",
    "                        print(resolve_noun) \n",
    "                        res_pos = prop_noun_entities_pos[resolve_noun]\n",
    "                        print (token.i)\n",
    "                        if res_pos < token.i and str(token.text).lower in first_person_pron: \n",
    "                                doc_list[token.i] = prev_noun \n",
    "                                break \n",
    "                        elif res_pos < token.i and resolve_noun != prev_noun: \n",
    "                            doc_list[token.i] = resolve_noun \n",
    "                            prev_noun = resolve_noun \n",
    "                            break \n",
    "\n",
    " \n",
    "    return doc_list \n",
    "\n",
    "def map_entity_pronoun(prop_noun_entities, entity, anaphora_mappings): \n",
    "    pronouns = [\"i\", \"you\", \"he\", \"she\", \"it\", \"we\", \"they\", \"me\", \"him\", \"her\", \"us\", \"them\"] \n",
    "\n",
    " \n",
    "    first_person_pron = [\"i\", \"me\", \"my\", \"mine\"] \n",
    "    second_person_pron = [\"you\", \"your\"] \n",
    "    third_person_pron = [[\"he\", \"him\", \"his\"], [\"she\", \"her\", \"hers\"], [\"it\"]]  # M - F - N \n",
    " \n",
    " \n",
    "    first_person_plu_pron = [\"we\", \"us\", \"our\", \"ours\"] \n",
    "    second_person_plu_pron = [\"you\", \"yours\"] \n",
    "    third_person_plu_pron = [\"they\", \"them\", \"their\", \"theirs\"] \n",
    "\n",
    " \n",
    "    gender = prop_noun_entities[entity] \n",
    "\n",
    " \n",
    "    if gender == 'male': \n",
    "        anaphora_mappings[entity] = first_person_pron + second_person_pron + third_person_pron[0] \n",
    "    elif gender == 'female': \n",
    "        anaphora_mappings[entity] = first_person_pron + second_person_pron + third_person_pron[1] \n",
    "    else: \n",
    "        anaphora_mappings[entity] = third_person_pron[2] \n",
    "    return anaphora_mappings \n",
    "\n",
    " \n",
    "\n",
    "if __name__ == \"__main__\": \n",
    "    en_doc = en_nlp(u'' + sentence) \n",
    "    prop_noun = \"\" \n",
    "    anaphora_mappings = {} \n",
    " \n",
    "    prop_noun_entities, prop_noun_entities_pos = get_named_entities(en_doc) \n",
    "    for entity in prop_noun_entities.keys(): \n",
    "        anaphora_mappings = map_entity_pronoun(prop_noun_entities, entity, anaphora_mappings) \n",
    "    \n",
    "    resolved_sent = propogate_anaphora(en_doc, anaphora_mappings, prop_noun_entities_pos)\n",
    "    print(' '.join(resolved_sent))\n",
    "\n",
    "\n",
    "\n",
    "    \n",
    "\n"
   ]
  },
  {
   "cell_type": "code",
   "execution_count": 15,
   "metadata": {
    "collapsed": false,
    "deletable": true,
    "editable": true
   },
   "outputs": [
    {
     "data": {
      "text/plain": [
       "u'pronoun, possessive'"
      ]
     },
     "execution_count": 15,
     "metadata": {},
     "output_type": "execute_result"
    }
   ],
   "source": []
  },
  {
   "cell_type": "code",
   "execution_count": null,
   "metadata": {
    "collapsed": true,
    "deletable": true,
    "editable": true
   },
   "outputs": [],
   "source": []
  }
 ],
 "metadata": {
  "kernelspec": {
   "display_name": "Python 2",
   "language": "python",
   "name": "python2"
  },
  "language_info": {
   "codemirror_mode": {
    "name": "ipython",
    "version": 2
   },
   "file_extension": ".py",
   "mimetype": "text/x-python",
   "name": "python",
   "nbconvert_exporter": "python",
   "pygments_lexer": "ipython2",
   "version": "2.7.14"
  }
 },
 "nbformat": 4,
 "nbformat_minor": 2
}
