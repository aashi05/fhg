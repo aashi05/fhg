{
 "cells": [
  {
   "cell_type": "code",
   "execution_count": 15,
   "metadata": {
    "collapsed": false
   },
   "outputs": [
    {
     "name": "stdout",
     "output_type": "stream",
     "text": [
      "\"Who ordered U.S. military intervention in Iraq?\"\n",
      "\"Obama\"\n"
     ]
    },
    {
     "ename": "AttributeError",
     "evalue": "'str' object has no attribute 'sents'",
     "output_type": "error",
     "traceback": [
      "\u001b[0;31m\u001b[0m",
      "\u001b[0;31mAttributeError\u001b[0mTraceback (most recent call last)",
      "\u001b[0;32m<ipython-input-15-321bf20df047>\u001b[0m in \u001b[0;36m<module>\u001b[0;34m()\u001b[0m\n\u001b[1;32m     83\u001b[0m     \u001b[0mquestion\u001b[0m \u001b[0;34m=\u001b[0m \u001b[0minput\u001b[0m\u001b[0;34m(\u001b[0m\u001b[0;34m)\u001b[0m\u001b[0;34m\u001b[0m\u001b[0m\n\u001b[1;32m     84\u001b[0m     \u001b[0manswer\u001b[0m \u001b[0;34m=\u001b[0m \u001b[0minput\u001b[0m\u001b[0;34m(\u001b[0m\u001b[0;34m)\u001b[0m\u001b[0;34m\u001b[0m\u001b[0m\n\u001b[0;32m---> 85\u001b[0;31m     \u001b[0mcheckIfCorrectAnswer\u001b[0m\u001b[0;34m(\u001b[0m\u001b[0mquestion\u001b[0m\u001b[0;34m,\u001b[0m \u001b[0manswer\u001b[0m\u001b[0;34m)\u001b[0m\u001b[0;34m\u001b[0m\u001b[0m\n\u001b[0m\u001b[1;32m     86\u001b[0m \u001b[0;34m\u001b[0m\u001b[0m\n",
      "\u001b[0;32m<ipython-input-15-321bf20df047>\u001b[0m in \u001b[0;36mcheckIfCorrectAnswer\u001b[0;34m(question, answer)\u001b[0m\n\u001b[1;32m     69\u001b[0m         \u001b[0;32mprint\u001b[0m \u001b[0;34m(\u001b[0m\u001b[0;34m\"Ans\"\u001b[0m\u001b[0;34m,\u001b[0m\u001b[0manswer\u001b[0m\u001b[0;34m)\u001b[0m\u001b[0;34m\u001b[0m\u001b[0m\n\u001b[1;32m     70\u001b[0m     \u001b[0;32melse\u001b[0m\u001b[0;34m:\u001b[0m\u001b[0;34m\u001b[0m\u001b[0m\n\u001b[0;32m---> 71\u001b[0;31m         \u001b[0;32mif\u001b[0m \u001b[0mclassify_question\u001b[0m\u001b[0;34m(\u001b[0m\u001b[0mquestion\u001b[0m\u001b[0;34m)\u001b[0m \u001b[0;34m==\u001b[0m \u001b[0;34m\"HUM\"\u001b[0m\u001b[0;34m:\u001b[0m\u001b[0;34m\u001b[0m\u001b[0m\n\u001b[0m\u001b[1;32m     72\u001b[0m             \u001b[0;32mprint\u001b[0m \u001b[0;34m(\u001b[0m\u001b[0mquestion\u001b[0m\u001b[0;34m)\u001b[0m\u001b[0;34m\u001b[0m\u001b[0m\n\u001b[1;32m     73\u001b[0m             \u001b[0mreply\u001b[0m \u001b[0;34m=\u001b[0m \u001b[0mfindABetterAns\u001b[0m\u001b[0;34m(\u001b[0m\u001b[0mquestion\u001b[0m\u001b[0;34m,\u001b[0m\u001b[0mmatched\u001b[0m\u001b[0;34m*\u001b[0m\u001b[0;36m100\u001b[0m\u001b[0;34m/\u001b[0m\u001b[0mlen\u001b[0m\u001b[0;34m(\u001b[0m\u001b[0mquestionParts\u001b[0m\u001b[0;34m)\u001b[0m\u001b[0;34m)\u001b[0m\u001b[0;34m\u001b[0m\u001b[0m\n",
      "\u001b[0;32m<ipython-input-12-4fa4f3c48ac6>\u001b[0m in \u001b[0;36mclassify_question\u001b[0;34m(en_doc)\u001b[0m\n\u001b[1;32m    126\u001b[0m \u001b[0;34m\u001b[0m\u001b[0m\n\u001b[1;32m    127\u001b[0m     \u001b[0mdf_question_class\u001b[0m \u001b[0;34m=\u001b[0m \u001b[0mremove_irrelevant_features\u001b[0m\u001b[0;34m(\u001b[0m\u001b[0mdf_question_train\u001b[0m\u001b[0;34m)\u001b[0m\u001b[0;34m\u001b[0m\u001b[0m\n\u001b[0;32m--> 128\u001b[0;31m     \u001b[0mdf_question_predict\u001b[0m \u001b[0;34m=\u001b[0m \u001b[0mget_question_predict_data\u001b[0m\u001b[0;34m(\u001b[0m\u001b[0men_doc\u001b[0m\u001b[0;34m)\u001b[0m\u001b[0;34m\u001b[0m\u001b[0m\n\u001b[0m\u001b[1;32m    129\u001b[0m     \u001b[0mdf_question_train\u001b[0m \u001b[0;34m=\u001b[0m \u001b[0mpre_process\u001b[0m\u001b[0;34m(\u001b[0m\u001b[0mdf_question_train\u001b[0m\u001b[0;34m)\u001b[0m\u001b[0;34m\u001b[0m\u001b[0m\n\u001b[1;32m    130\u001b[0m     \u001b[0mdf_question_predict\u001b[0m \u001b[0;34m=\u001b[0m \u001b[0mpre_process\u001b[0m\u001b[0;34m(\u001b[0m\u001b[0mdf_question_predict\u001b[0m\u001b[0;34m)\u001b[0m\u001b[0;34m\u001b[0m\u001b[0m\n",
      "\u001b[0;32m<ipython-input-12-4fa4f3c48ac6>\u001b[0m in \u001b[0;36mget_question_predict_data\u001b[0;34m(en_doc)\u001b[0m\n\u001b[1;32m     78\u001b[0m \u001b[0;34m\u001b[0m\u001b[0m\n\u001b[1;32m     79\u001b[0m \u001b[0;32mdef\u001b[0m \u001b[0mget_question_predict_data\u001b[0m\u001b[0;34m(\u001b[0m\u001b[0men_doc\u001b[0m\u001b[0;34m)\u001b[0m\u001b[0;34m:\u001b[0m\u001b[0;34m\u001b[0m\u001b[0m\n\u001b[0;32m---> 80\u001b[0;31m     \u001b[0msentence_list\u001b[0m \u001b[0;34m=\u001b[0m \u001b[0mlist\u001b[0m\u001b[0;34m(\u001b[0m\u001b[0men_doc\u001b[0m\u001b[0;34m.\u001b[0m\u001b[0msents\u001b[0m\u001b[0;34m)\u001b[0m\u001b[0;34m[\u001b[0m\u001b[0;36m0\u001b[0m\u001b[0;34m:\u001b[0m\u001b[0;36m1\u001b[0m\u001b[0;34m]\u001b[0m\u001b[0;34m\u001b[0m\u001b[0m\n\u001b[0m\u001b[1;32m     81\u001b[0m     \u001b[0men_nlp\u001b[0m \u001b[0;34m=\u001b[0m \u001b[0mspacy\u001b[0m\u001b[0;34m.\u001b[0m\u001b[0mload\u001b[0m\u001b[0;34m(\u001b[0m\u001b[0;34m\"en_core_web_md\"\u001b[0m\u001b[0;34m)\u001b[0m\u001b[0;34m\u001b[0m\u001b[0m\n\u001b[1;32m     82\u001b[0m \u001b[0;34m\u001b[0m\u001b[0m\n",
      "\u001b[0;31mAttributeError\u001b[0m: 'str' object has no attribute 'sents'"
     ]
    }
   ],
   "source": [
    "import nltk \n",
    "from nltk import corpus, stem\n",
    "from nltk.stem import wordnet\n",
    "from nltk.stem.wordnet import WordNetLemmatizer \n",
    "from nltk import word_tokenize \n",
    "from nltk.stem.porter import PorterStemmer \n",
    "from nltk.corpus import stopwords\n",
    "\n",
    "      \n",
    "def process(question): \n",
    "    if question.lower().startswith(\"who \" or \"when \" or \"where \" or \"what \" or \"why \" or \"is \" or \"was \" or \"will \" or \"are \" or \"were \" or \"do \" or \"does \" or \"did \" or \"have \" or \"has \" or \"can \"): \n",
    "        return 1 \n",
    "    elif question.lower().startswith(\"how \"): \n",
    "        return 2 \n",
    "    else: \n",
    "        return 0 \n",
    "      \n",
    "def make_min(sentence,Qtype): \n",
    "    sentence = sentence.upper() \n",
    "    sentence = ' '.join([word for word in sentence.split() if word not in (stopwords.words('english'))]) \n",
    "    sentenceParts = [] \n",
    "    ps = PorterStemmer() \n",
    "    if Qtype == \"q\": \n",
    "        for i in range(process(sentence),len(sentence.strip(\"?\").split())): \n",
    "            sentenceParts.append(ps.stem(sentence.strip(\"?\").split()[i])) \n",
    "    else: \n",
    "        for each in sentence.strip(\"?\").split(): \n",
    "            sentenceParts.append(ps.stem(each)) \n",
    "    return sentenceParts\n",
    "  \n",
    "def findABetterAns(question, prevLevel): \n",
    "    corpusFile = open(\"corpus.txt\",\"r\") \n",
    "    data = corpusFile.read() \n",
    "    corpusFile.close() \n",
    " \n",
    "    data = data.split(\".\" or \"!\" or \"?\") \n",
    " \n",
    "    linedata = [] \n",
    "    questionParts = make_min(question,\"q\") \n",
    "\n",
    "    confidenceLevels = [] \n",
    "    for sent in data: \n",
    "        confidenceLevel = [] \n",
    "        matched = 0 \n",
    "        answerParts = make_min(sent, \"a\") \n",
    "        for each in questionParts: \n",
    "            if each in answerParts: \n",
    "                matched += 1 \n",
    "        confidenceLevel.append(sent) \n",
    "        confidenceLevel.append(matched*100/len(questionParts)) \n",
    "        confidenceLevels.append(confidenceLevel)\n",
    "    \n",
    "    for ans in sorted(confidenceLevels, key=lambda x: x[1], reverse=True): \n",
    "        if ans[1] > prevLevel: \n",
    "            if classify_question(question) == \"HUM\":\n",
    "                return ans \n",
    "\n",
    "def checkIfCorrectAnswer(question, answer): \n",
    "    questionParts = make_min(question, \"q\") \n",
    "    answerParts = make_min(answer, \"a\") \n",
    "    matched = 0\n",
    "    \n",
    "    for each in questionParts: \n",
    "        if each in answerParts: \n",
    "            matched += 1 \n",
    "    if matched == len(questionParts): \n",
    "        print (\"100\"+\"%\"+\" confidence\") \n",
    "        print (\"Q\",question) \n",
    "        print (\"Ans\",answer) \n",
    "    else: \n",
    "        if classify_question(question) == \"HUM\":\n",
    "            print (question) \n",
    "            reply = findABetterAns(question,matched*100/len(questionParts)) \n",
    "            if reply[1] > 0: \n",
    "                print (reply[0]) \n",
    "                print (str(reply[1]) + \"%\" + \" confidence\") \n",
    "            else: \n",
    "                print (\"Only low confidence answer found\") \n",
    "                print (\"Ans\",answer) \n",
    "                print (str(matched*100/len(questionParts)) +\"% \"+ \"confidence\")\n",
    "                \n",
    "if __name__ == \"__main__\": \n",
    "    question = input()\n",
    "    answer = input()\n",
    "    checkIfCorrectAnswer(question, answer)\n",
    "\n"
   ]
  },
  {
   "cell_type": "code",
   "execution_count": null,
   "metadata": {
    "collapsed": true
   },
   "outputs": [],
   "source": []
  }
 ],
 "metadata": {
  "kernelspec": {
   "display_name": "Python 2",
   "language": "python",
   "name": "python2"
  },
  "language_info": {
   "codemirror_mode": {
    "name": "ipython",
    "version": 2
   },
   "file_extension": ".py",
   "mimetype": "text/x-python",
   "name": "python",
   "nbconvert_exporter": "python",
   "pygments_lexer": "ipython2",
   "version": "2.7.14"
  }
 },
 "nbformat": 4,
 "nbformat_minor": 2
}
