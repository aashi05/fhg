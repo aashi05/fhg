{
 "cells": [
  {
   "cell_type": "code",
   "execution_count": 11,
   "metadata": {
    "collapsed": false,
    "deletable": true,
    "editable": true
   },
   "outputs": [
    {
     "name": "stdout",
     "output_type": "stream",
     "text": [
      "('the accuracy of classifier is:', 0.8156424581005587)\n"
     ]
    }
   ],
   "source": [
    "import pandas \n",
    "import sklearn \n",
    "import scipy \n",
    "import pickle\n",
    " \n",
    "from scipy import sparse \n",
    "from scipy.sparse import csr_matrix \n",
    "from sklearn import svm \n",
    "from sklearn import preprocessing, cross_validation, neighbors\n",
    "from sklearn.svm import LinearSVC \n",
    "from sklearn import externals\n",
    "from sklearn.externals import joblib\n",
    "from sklearn import model_selection\n",
    "from sklearn.linear_model import LogisticRegression\n",
    "from sklearn.tree import DecisionTreeClassifier\n",
    "from sklearn.neighbors import KNeighborsClassifier\n",
    "from sklearn.discriminant_analysis import LinearDiscriminantAnalysis\n",
    "from sklearn.naive_bayes import GaussianNB\n",
    "\n",
    "\n",
    " \n",
    " \n",
    "def pre_process(dta): \n",
    "    return pandas.get_dummies(dta) \n",
    " \n",
    " \n",
    "def transform_data_matrix(df_question_train):  \n",
    " \n",
    "    # Generate Compressed Sparse Row matrix: \n",
    "    # https://docs.scipy.org/doc/scipy/reference/generated/scipy.sparse.csr_matrix.html \n",
    "    df_question_train = csr_matrix(df_question_train) \n",
    " \n",
    " \n",
    "    return df_question_train \n",
    " \n",
    " \n",
    " \n",
    " \n",
    "def remove_irrelevant_features(df_question): \n",
    "    df_question_class = df_question.pop('Class') \n",
    "\n",
    " \n",
    "    df_question.pop('Question') \n",
    "    #df_question.pop('WH-Bigram') \n",
    " \n",
    " \n",
    "    return df_question_class \n",
    "\n",
    " \n",
    "def support_vector_machine(X, Y): \n",
    "    X_train, X_test, Y_train, Y_test = cross_validation.train_test_split(X, Y, test_size=0.2)\n",
    "    lin_clf = LinearSVC() \n",
    "    lin_clf.fit(X_train, Y_train)\n",
    "    lin_clf.fit(X,Y)\n",
    "    confidence = lin_clf.score(X_test, Y_test)\n",
    "    print (\"the accuracy of classifier is:\", confidence)\n",
    "    \n",
    "    #with open('svm.pkl', 'wb') as f:\n",
    "        #pickle.dump(lin_clf, f)\n",
    "    #f.close() \n",
    "    return lin_clf \n",
    " \n",
    " \n",
    "def train_question_classifier(training_data_path): \n",
    "    \n",
    " \n",
    "    df_question = pandas.read_csv(training_data_path, sep='|', header=0, encoding='cp1252') \n",
    "\n",
    " \n",
    "    df_question_class = remove_irrelevant_features(df_question) \n",
    "\n",
    " \n",
    "    df_question_train = pre_process(df_question) \n",
    "\n",
    " \n",
    "    df_question_train = transform_data_matrix(df_question_train) \n",
    "\n",
    " \n",
    "    support_vector_machine(df_question_train, df_question_class) \n",
    "\n",
    "if __name__ == \"__main__\":\n",
    "     train_question_classifier('qclassify.csv')\n"
   ]
  },
  {
   "cell_type": "code",
   "execution_count": null,
   "metadata": {
    "collapsed": true,
    "deletable": true,
    "editable": true
   },
   "outputs": [],
   "source": []
  },
  {
   "cell_type": "code",
   "execution_count": null,
   "metadata": {
    "collapsed": true,
    "deletable": true,
    "editable": true
   },
   "outputs": [],
   "source": []
  }
 ],
 "metadata": {
  "kernelspec": {
   "display_name": "Python 2",
   "language": "python",
   "name": "python2"
  },
  "language_info": {
   "codemirror_mode": {
    "name": "ipython",
    "version": 2
   },
   "file_extension": ".py",
   "mimetype": "text/x-python",
   "name": "python",
   "nbconvert_exporter": "python",
   "pygments_lexer": "ipython2",
   "version": "2.7.14"
  }
 },
 "nbformat": 4,
 "nbformat_minor": 2
}
